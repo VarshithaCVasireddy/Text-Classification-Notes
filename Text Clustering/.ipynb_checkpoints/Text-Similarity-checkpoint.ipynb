{
 "cells": [
  {
   "cell_type": "code",
   "execution_count": 1,
   "id": "63c3cf55-9c9c-4da9-adc0-b8ae42c823d2",
   "metadata": {},
   "outputs": [],
   "source": [
    "import numpy as np\n",
    "import copy\n",
    "import pandas as pd"
   ]
  },
  {
   "cell_type": "code",
   "execution_count": 2,
   "id": "28bb6147-fee4-49f2-95ce-eb00355459f0",
   "metadata": {},
   "outputs": [],
   "source": [
    "term1 = 'Believe'\n",
    "term2 = 'beleive'\n",
    "term3 = 'bargain'\n",
    "term4 = 'Elephant'"
   ]
  },
  {
   "cell_type": "code",
   "execution_count": 3,
   "id": "2dbedf38-92ae-4104-b47c-0d3fa4329fc0",
   "metadata": {},
   "outputs": [],
   "source": [
    "def vectorize_terms(terms):\n",
    "    terms = [term.lower() for term in terms]\n",
    "    terms = [np.array(list(term)) for term in terms]\n",
    "    terms = [np.array([ord(char) for char in term])for term in terms]\n",
    "    \n",
    "    return terms"
   ]
  },
  {
   "cell_type": "code",
   "execution_count": 4,
   "id": "7e908589-f5af-4e9a-a81a-a0462ada23aa",
   "metadata": {},
   "outputs": [],
   "source": [
    "terms = [term1, term2, term3, term4]\n",
    "termsVec = vectorize_terms(terms)"
   ]
  },
  {
   "cell_type": "code",
   "execution_count": 5,
   "id": "699912ff-7c98-4517-9a2e-1a08d603bd1c",
   "metadata": {},
   "outputs": [
    {
     "data": {
      "text/plain": [
       "[array([ 98, 101, 108, 105, 101, 118, 101]),\n",
       " array([ 98, 101, 108, 101, 105, 118, 101]),\n",
       " array([ 98,  97, 114, 103,  97, 105, 110]),\n",
       " array([101, 108, 101, 112, 104,  97, 110, 116])]"
      ]
     },
     "execution_count": 5,
     "metadata": {},
     "output_type": "execute_result"
    }
   ],
   "source": [
    "termsVec"
   ]
  },
  {
   "cell_type": "markdown",
   "id": "2cd28e68-a4bb-4415-b7f3-b9397ff8f9a5",
   "metadata": {},
   "source": [
    "## Hamming Distance"
   ]
  },
  {
   "cell_type": "code",
   "execution_count": 6,
   "id": "d4971275-6785-4e0d-a404-3c40629eb99b",
   "metadata": {},
   "outputs": [
    {
     "data": {
      "text/plain": [
       "[array([ 98, 101, 108, 105, 101, 118, 101]),\n",
       " array([ 98, 101, 108, 101, 105, 118, 101]),\n",
       " array([ 98,  97, 114, 103,  97, 105, 110]),\n",
       " array([101, 108, 101, 112, 104,  97, 110, 116])]"
      ]
     },
     "execution_count": 6,
     "metadata": {},
     "output_type": "execute_result"
    }
   ],
   "source": [
    "termsVec"
   ]
  },
  {
   "cell_type": "code",
   "execution_count": 7,
   "id": "9cfc44ae-fe97-4f5d-a2ae-80b042173953",
   "metadata": {},
   "outputs": [],
   "source": [
    "def HammingDistance(term1, term2, norm=False):\n",
    "    \n",
    "    if term1.shape != term2.shape:\n",
    "        return False\n",
    "    \n",
    "    return (term1!=term2).sum() if not norm else (term1 != term2).mean() "
   ]
  },
  {
   "cell_type": "code",
   "execution_count": 8,
   "id": "a0d0abbb-837c-4b9c-ae2c-ec6b0d1af990",
   "metadata": {},
   "outputs": [
    {
     "data": {
      "text/plain": [
       "2"
      ]
     },
     "execution_count": 8,
     "metadata": {},
     "output_type": "execute_result"
    }
   ],
   "source": [
    "HammingDistance(termsVec[0], termsVec[1], norm=False)"
   ]
  },
  {
   "cell_type": "markdown",
   "id": "c7034ce9-ca6b-420a-9ee8-8fef7c131bb3",
   "metadata": {},
   "source": [
    "## Manhattan Distance"
   ]
  },
  {
   "cell_type": "code",
   "execution_count": 9,
   "id": "a2a49e23-244a-42a0-8381-584438417c70",
   "metadata": {},
   "outputs": [],
   "source": [
    "def ManhattanDistance(term1, term2, norm=False):\n",
    "    \n",
    "    if len(term1) != len(term2):\n",
    "        return False\n",
    "    \n",
    "    return (abs(term1-term2)).sum() if not norm else (abs(term1-term2)).mean()"
   ]
  },
  {
   "cell_type": "code",
   "execution_count": 10,
   "id": "ed10b1e2-2100-4b40-a019-a91fa1e6bd0f",
   "metadata": {},
   "outputs": [
    {
     "data": {
      "text/plain": [
       "8"
      ]
     },
     "execution_count": 10,
     "metadata": {},
     "output_type": "execute_result"
    }
   ],
   "source": [
    "ManhattanDistance(termsVec[0], termsVec[1], norm=False)"
   ]
  },
  {
   "cell_type": "markdown",
   "id": "d7d187f2-da3b-4821-b6da-473d052f1566",
   "metadata": {},
   "source": [
    "## Euclidean Distance"
   ]
  },
  {
   "cell_type": "code",
   "execution_count": 11,
   "id": "3165b71c-1fdb-408c-8450-d3994d74bf10",
   "metadata": {},
   "outputs": [],
   "source": [
    "def euclideanDistance(term1, term2):\n",
    "    if len(term1) != len(term2):\n",
    "        return False\n",
    "    return np.sqrt(np.sum(np.square(term1-term2)))"
   ]
  },
  {
   "cell_type": "code",
   "execution_count": 12,
   "id": "eef46d52-2881-43a4-ac17-4a0e6fdbb937",
   "metadata": {},
   "outputs": [
    {
     "data": {
      "text/plain": [
       "5.656854249492381"
      ]
     },
     "execution_count": 12,
     "metadata": {},
     "output_type": "execute_result"
    }
   ],
   "source": [
    "euclideanDistance(termsVec[0], termsVec[1])"
   ]
  },
  {
   "cell_type": "markdown",
   "id": "975c68a8-7dd7-47a9-aed4-6488112cce1a",
   "metadata": {},
   "source": [
    "## Edit Distance"
   ]
  },
  {
   "cell_type": "code",
   "execution_count": 13,
   "id": "5c28d073-34de-4012-a0d0-2df8ff81b155",
   "metadata": {},
   "outputs": [],
   "source": [
    "def editDistace(term1, term2):\n",
    "    \n",
    "    term1 = term1.lower()\n",
    "    term2 = term2.lower()\n",
    "    \n",
    "    if term1 == term2: return 0\n",
    "    if len(term1) == 0: return len(term1)\n",
    "    if len(term2) == 0: return len(term2)\n",
    "    \n",
    "    editDistance = []\n",
    "    \n",
    "    length = len(term1)\n",
    "    if len(term1) < len(term2):\n",
    "        length = len(term2)\n",
    "    \n",
    "    dist1 = [0]*(length+1)\n",
    "    dist2 = [0]*(length+1)\n",
    "    \n",
    "    for i in range(len(dist1)):\n",
    "        dist1[i] = i\n",
    "    \n",
    "    for i in range(len(term1)):\n",
    "        dist2[0] = i + 1\n",
    "        \n",
    "        for j in range(len(term2)):\n",
    "            cost = 0 if term1[i] == term2[j] else 1\n",
    "            dist2[j+1] = min(dist2[j]+1, dist1[j+1]+1, dist1[j]+cost)\n",
    "            \n",
    "        for j in range(len(dist1)):\n",
    "            dist1[j] = dist2[j]\n",
    "            \n",
    "        editDistance.append(copy.copy(dist2))\n",
    "    distance = dist2[length]\n",
    "    editMatrix = np.array(editDistance).T\n",
    "    editMatrix = editMatrix[1:, ]\n",
    "    editMatrix = pd.DataFrame(data = editMatrix, index = list(term2), columns = list(term1))\n",
    "    return editMatrix, distance"
   ]
  },
  {
   "cell_type": "code",
   "execution_count": 14,
   "id": "71b99b07-2ce9-4463-958f-39a1edfaa37b",
   "metadata": {},
   "outputs": [],
   "source": [
    "editMatrix, distance = editDistace(terms[0], terms[3])"
   ]
  },
  {
   "cell_type": "code",
   "execution_count": 15,
   "id": "362959ad-0948-459b-96eb-357e4da405d4",
   "metadata": {},
   "outputs": [
    {
     "data": {
      "text/html": [
       "<div>\n",
       "<style scoped>\n",
       "    .dataframe tbody tr th:only-of-type {\n",
       "        vertical-align: middle;\n",
       "    }\n",
       "\n",
       "    .dataframe tbody tr th {\n",
       "        vertical-align: top;\n",
       "    }\n",
       "\n",
       "    .dataframe thead th {\n",
       "        text-align: right;\n",
       "    }\n",
       "</style>\n",
       "<table border=\"1\" class=\"dataframe\">\n",
       "  <thead>\n",
       "    <tr style=\"text-align: right;\">\n",
       "      <th></th>\n",
       "      <th>b</th>\n",
       "      <th>e</th>\n",
       "      <th>l</th>\n",
       "      <th>i</th>\n",
       "      <th>e</th>\n",
       "      <th>v</th>\n",
       "      <th>e</th>\n",
       "    </tr>\n",
       "  </thead>\n",
       "  <tbody>\n",
       "    <tr>\n",
       "      <th>e</th>\n",
       "      <td>1</td>\n",
       "      <td>1</td>\n",
       "      <td>2</td>\n",
       "      <td>3</td>\n",
       "      <td>4</td>\n",
       "      <td>5</td>\n",
       "      <td>6</td>\n",
       "    </tr>\n",
       "    <tr>\n",
       "      <th>l</th>\n",
       "      <td>2</td>\n",
       "      <td>2</td>\n",
       "      <td>1</td>\n",
       "      <td>2</td>\n",
       "      <td>3</td>\n",
       "      <td>4</td>\n",
       "      <td>5</td>\n",
       "    </tr>\n",
       "    <tr>\n",
       "      <th>e</th>\n",
       "      <td>3</td>\n",
       "      <td>2</td>\n",
       "      <td>2</td>\n",
       "      <td>2</td>\n",
       "      <td>2</td>\n",
       "      <td>3</td>\n",
       "      <td>4</td>\n",
       "    </tr>\n",
       "    <tr>\n",
       "      <th>p</th>\n",
       "      <td>4</td>\n",
       "      <td>3</td>\n",
       "      <td>3</td>\n",
       "      <td>3</td>\n",
       "      <td>3</td>\n",
       "      <td>3</td>\n",
       "      <td>4</td>\n",
       "    </tr>\n",
       "    <tr>\n",
       "      <th>h</th>\n",
       "      <td>5</td>\n",
       "      <td>4</td>\n",
       "      <td>4</td>\n",
       "      <td>4</td>\n",
       "      <td>4</td>\n",
       "      <td>4</td>\n",
       "      <td>4</td>\n",
       "    </tr>\n",
       "    <tr>\n",
       "      <th>a</th>\n",
       "      <td>6</td>\n",
       "      <td>5</td>\n",
       "      <td>5</td>\n",
       "      <td>5</td>\n",
       "      <td>5</td>\n",
       "      <td>5</td>\n",
       "      <td>5</td>\n",
       "    </tr>\n",
       "    <tr>\n",
       "      <th>n</th>\n",
       "      <td>7</td>\n",
       "      <td>6</td>\n",
       "      <td>6</td>\n",
       "      <td>6</td>\n",
       "      <td>6</td>\n",
       "      <td>6</td>\n",
       "      <td>6</td>\n",
       "    </tr>\n",
       "    <tr>\n",
       "      <th>t</th>\n",
       "      <td>8</td>\n",
       "      <td>7</td>\n",
       "      <td>7</td>\n",
       "      <td>7</td>\n",
       "      <td>7</td>\n",
       "      <td>7</td>\n",
       "      <td>7</td>\n",
       "    </tr>\n",
       "  </tbody>\n",
       "</table>\n",
       "</div>"
      ],
      "text/plain": [
       "   b  e  l  i  e  v  e\n",
       "e  1  1  2  3  4  5  6\n",
       "l  2  2  1  2  3  4  5\n",
       "e  3  2  2  2  2  3  4\n",
       "p  4  3  3  3  3  3  4\n",
       "h  5  4  4  4  4  4  4\n",
       "a  6  5  5  5  5  5  5\n",
       "n  7  6  6  6  6  6  6\n",
       "t  8  7  7  7  7  7  7"
      ]
     },
     "execution_count": 15,
     "metadata": {},
     "output_type": "execute_result"
    }
   ],
   "source": [
    "editMatrix"
   ]
  },
  {
   "cell_type": "code",
   "execution_count": 16,
   "id": "7e3beff1-87cd-46ac-9134-81b217eddbae",
   "metadata": {},
   "outputs": [],
   "source": [
    "## Cosine Similarity"
   ]
  },
  {
   "cell_type": "code",
   "execution_count": 19,
   "id": "edbd28ed-358d-4dd6-9699-b2508b1f0169",
   "metadata": {},
   "outputs": [],
   "source": [
    "from sklearn.feature_extraction.text import CountVectorizer\n",
    "from sklearn.metrics.pairwise import cosine_similarity, cosine_distances"
   ]
  },
  {
   "cell_type": "code",
   "execution_count": 20,
   "id": "7f335a85-ddd0-4778-9f57-b676c981ea2c",
   "metadata": {},
   "outputs": [
    {
     "ename": "TypeError",
     "evalue": "CountVectorizer.__init__() takes 1 positional argument but 2 were given",
     "output_type": "error",
     "traceback": [
      "\u001b[0;31m---------------------------------------------------------------------------\u001b[0m",
      "\u001b[0;31mTypeError\u001b[0m                                 Traceback (most recent call last)",
      "Input \u001b[0;32mIn [20]\u001b[0m, in \u001b[0;36m<cell line: 5>\u001b[0;34m()\u001b[0m\n\u001b[1;32m      2\u001b[0m Sentence2 \u001b[38;5;241m=\u001b[39m \u001b[38;5;124m\"\u001b[39m\u001b[38;5;124mAI is our friend and it has been friendly\u001b[39m\u001b[38;5;124m\"\u001b[39m\n\u001b[1;32m      4\u001b[0m Sents \u001b[38;5;241m=\u001b[39m [Sentence1, Sentence2]\n\u001b[0;32m----> 5\u001b[0m countVec \u001b[38;5;241m=\u001b[39m \u001b[43mCountVectorizer\u001b[49m\u001b[43m(\u001b[49m\u001b[43mSents\u001b[49m\u001b[43m)\u001b[49m\u001b[38;5;241m.\u001b[39mfit(Sents)\n",
      "\u001b[0;31mTypeError\u001b[0m: CountVectorizer.__init__() takes 1 positional argument but 2 were given"
     ]
    }
   ],
   "source": [
    "Sentence1 = \"AI is our friend and it has been friendly\"\n",
    "Sentence2 = \"AI is our friend and it has been friendly\"\n",
    "\n",
    "Sents = [Sentence1, Sentence2]\n",
    "countVec = CountVectorizer(Sents).fit(Sents)"
   ]
  },
  {
   "cell_type": "code",
   "execution_count": 21,
   "id": "43ff8c27-64e1-4a03-83ed-1355bc1b97aa",
   "metadata": {},
   "outputs": [
    {
     "ename": "NameError",
     "evalue": "name 'countVec' is not defined",
     "output_type": "error",
     "traceback": [
      "\u001b[0;31m---------------------------------------------------------------------------\u001b[0m",
      "\u001b[0;31mNameError\u001b[0m                                 Traceback (most recent call last)",
      "Input \u001b[0;32mIn [21]\u001b[0m, in \u001b[0;36m<cell line: 1>\u001b[0;34m()\u001b[0m\n\u001b[0;32m----> 1\u001b[0m countArray \u001b[38;5;241m=\u001b[39m \u001b[43mcountVec\u001b[49m\u001b[38;5;241m.\u001b[39mtransform(Sents)\u001b[38;5;241m.\u001b[39mtoarray()\n",
      "\u001b[0;31mNameError\u001b[0m: name 'countVec' is not defined"
     ]
    }
   ],
   "source": [
    "countArray = countVec.transform(Sents).toarray()"
   ]
  },
  {
   "cell_type": "code",
   "execution_count": 22,
   "id": "cc952942-bb5a-4dba-80d5-906df46e2c17",
   "metadata": {},
   "outputs": [
    {
     "ename": "NameError",
     "evalue": "name 'countArray' is not defined",
     "output_type": "error",
     "traceback": [
      "\u001b[0;31m---------------------------------------------------------------------------\u001b[0m",
      "\u001b[0;31mNameError\u001b[0m                                 Traceback (most recent call last)",
      "Input \u001b[0;32mIn [22]\u001b[0m, in \u001b[0;36m<cell line: 1>\u001b[0;34m()\u001b[0m\n\u001b[0;32m----> 1\u001b[0m \u001b[43mcountArray\u001b[49m\n",
      "\u001b[0;31mNameError\u001b[0m: name 'countArray' is not defined"
     ]
    }
   ],
   "source": [
    "countArray"
   ]
  },
  {
   "cell_type": "code",
   "execution_count": 23,
   "id": "515dcd81-8430-4760-b599-f13b875d9b2d",
   "metadata": {},
   "outputs": [
    {
     "ename": "NameError",
     "evalue": "name 'countArray' is not defined",
     "output_type": "error",
     "traceback": [
      "\u001b[0;31m---------------------------------------------------------------------------\u001b[0m",
      "\u001b[0;31mNameError\u001b[0m                                 Traceback (most recent call last)",
      "Input \u001b[0;32mIn [23]\u001b[0m, in \u001b[0;36m<cell line: 1>\u001b[0;34m()\u001b[0m\n\u001b[0;32m----> 1\u001b[0m cosine_similarity(\u001b[43mcountArray\u001b[49m)\n",
      "\u001b[0;31mNameError\u001b[0m: name 'countArray' is not defined"
     ]
    }
   ],
   "source": [
    "cosine_similarity(countArray)"
   ]
  },
  {
   "cell_type": "code",
   "execution_count": 24,
   "id": "3e78db2b-0df2-494b-850c-bab98ae8a216",
   "metadata": {},
   "outputs": [],
   "source": [
    "def jaccardSimilarity(Sentence1, Sentence2):\n",
    "    a = set(Sentence1.split())\n",
    "    b = set(Sentence2.split())\n",
    "    c = a.intersection(b)\n",
    "    Similarity = float(len(c))/(len(a)+len(b)-len(c))\n",
    "    return Similarity"
   ]
  },
  {
   "cell_type": "code",
   "execution_count": 25,
   "id": "fa46ce89-2098-40a8-99fa-fd965aa437bf",
   "metadata": {},
   "outputs": [],
   "source": [
    "Similarity = jaccardSimilarity(Sentence1, Sentence2)"
   ]
  },
  {
   "cell_type": "code",
   "execution_count": 26,
   "id": "60487dba-7b00-49a1-977b-0427f0f50aaf",
   "metadata": {},
   "outputs": [
    {
     "data": {
      "text/plain": [
       "1.0"
      ]
     },
     "execution_count": 26,
     "metadata": {},
     "output_type": "execute_result"
    }
   ],
   "source": [
    "Similarity"
   ]
  },
  {
   "cell_type": "code",
   "execution_count": null,
   "id": "c6c8bd78-1ee3-4de1-960f-e4b7fdd5b9e8",
   "metadata": {},
   "outputs": [],
   "source": []
  }
 ],
 "metadata": {
  "kernelspec": {
   "display_name": "Python 3 (ipykernel)",
   "language": "python",
   "name": "python3"
  },
  "language_info": {
   "codemirror_mode": {
    "name": "ipython",
    "version": 3
   },
   "file_extension": ".py",
   "mimetype": "text/x-python",
   "name": "python",
   "nbconvert_exporter": "python",
   "pygments_lexer": "ipython3",
   "version": "3.10.4"
  }
 },
 "nbformat": 4,
 "nbformat_minor": 5
}
